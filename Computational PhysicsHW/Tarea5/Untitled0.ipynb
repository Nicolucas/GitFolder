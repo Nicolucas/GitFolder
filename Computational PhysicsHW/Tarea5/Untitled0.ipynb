{
 "metadata": {
  "name": "Untitled0"
 },
 "nbformat": 3,
 "nbformat_minor": 0,
 "worksheets": [
  {
   "cells": [
    {
     "cell_type": "heading",
     "level": 1,
     "metadata": {},
     "source": [
      "Segundo Orden"
     ]
    },
    {
     "cell_type": "markdown",
     "metadata": {},
     "source": [
      "primero que todo se debe separar el eje x con espacios dx\n"
     ]
    },
    {
     "cell_type": "markdown",
     "metadata": {},
     "source": [
      "se vuelve la ecuacion de segundo orden en dos ecuaciones de primer orden"
     ]
    },
    {
     "cell_type": "markdown",
     "metadata": {},
     "source": [
      "se crean dos funciones $y_1$, $y_2$ tq.. $y'_1=y_2$"
     ]
    },
    {
     "cell_type": "markdown",
     "metadata": {},
     "source": [
      "$y''=-4sin(y)$"
     ]
    },
    {
     "cell_type": "markdown",
     "metadata": {},
     "source": [
      "Cond inicial:\n",
      "    >$y[0]=0.01$\n",
      "    >$y'[0]=0$"
     ]
    },
    {
     "cell_type": "code",
     "collapsed": false,
     "input": [],
     "language": "python",
     "metadata": {},
     "outputs": []
    }
   ],
   "metadata": {}
  }
 ]
}