{
 "metadata": {
  "name": "ManchasT5B"
 },
 "nbformat": 3,
 "nbformat_minor": 0,
 "worksheets": [
  {
   "cells": [
    {
     "cell_type": "code",
     "collapsed": false,
     "input": [
      "%pylab inline\n",
      "import matplotlib.pyplot as plt\n",
      "import numpy as np\n",
      "from numpy import pi"
     ],
     "language": "python",
     "metadata": {},
     "outputs": [
      {
       "output_type": "stream",
       "stream": "stdout",
       "text": [
        "\n",
        "Welcome to pylab, a matplotlib-based Python environment [backend: module://IPython.zmq.pylab.backend_inline].\n",
        "For more information, type 'help(pylab)'.\n"
       ]
      }
     ],
     "prompt_number": 17
    },
    {
     "cell_type": "code",
     "collapsed": false,
     "input": [
      "#Abre el archivo 'sparse_sample_monthrg.dat.txt' como lectura \n",
      "#para separar cada columna y trabajar con los datos\n",
      "t=np.loadtxt(open('sparse_sample_monthrg.dat.txt','r'))"
     ],
     "language": "python",
     "metadata": {},
     "outputs": [],
     "prompt_number": 18
    },
    {
     "cell_type": "code",
     "collapsed": false,
     "input": [
      "#Separa las columnas de a\u00f1o y mes\n",
      "year=t[:,0]\n",
      "month=t[:,1]\n",
      "\n",
      "#Cuenta el numero de datos que tenga la lista de datos ingresados\n",
      "numDatosOri=shape(year)[0]-1"
     ],
     "language": "python",
     "metadata": {},
     "outputs": [],
     "prompt_number": 25
    },
    {
     "cell_type": "code",
     "collapsed": false,
     "input": [
      "#Halla el numero de datos que contendra el nuevo arreglo\n",
      "PosInic=month[0]+year[0]*12\n",
      "PosFin=month[numDatosOri]+year[numDatosOri]*12\n",
      "RangoTot=(int)(PosFin-PosInic)\n",
      "RangoTot"
     ],
     "language": "python",
     "metadata": {},
     "outputs": [
      {
       "output_type": "pyout",
       "prompt_number": 26,
       "text": [
        "4622"
       ]
      }
     ],
     "prompt_number": 26
    },
    {
     "cell_type": "code",
     "collapsed": false,
     "input": [
      "#Existen varios casos para completar los espacios de fechas:\n",
      "#1: Tomar el mismo valor hasta una nueva fecha\n",
      "#2: Tomar la pendiente entre valores y conseguir los valores intermedios\n",
      "#3: Tomar interpolacion cuadratica"
     ],
     "language": "python",
     "metadata": {},
     "outputs": [],
     "prompt_number": 27
    },
    {
     "cell_type": "code",
     "collapsed": false,
     "input": [],
     "language": "python",
     "metadata": {},
     "outputs": []
    }
   ],
   "metadata": {}
  }
 ]
}