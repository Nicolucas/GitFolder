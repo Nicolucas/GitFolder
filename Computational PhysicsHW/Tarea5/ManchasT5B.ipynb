{
 "metadata": {
  "name": "ManchasT5B"
 },
 "nbformat": 3,
 "nbformat_minor": 0,
 "worksheets": [
  {
   "cells": [
    {
     "cell_type": "code",
     "collapsed": false,
     "input": [
      "%pylab inline\n",
      "import matplotlib.pyplot as plt\n",
      "import numpy as np\n",
      "from numpy import pi"
     ],
     "language": "python",
     "metadata": {},
     "outputs": [
      {
       "output_type": "stream",
       "stream": "stdout",
       "text": [
        "\n",
        "Welcome to pylab, a matplotlib-based Python environment [backend: module://IPython.zmq.pylab.backend_inline].\n",
        "For more information, type 'help(pylab)'.\n"
       ]
      }
     ],
     "prompt_number": 4
    },
    {
     "cell_type": "code",
     "collapsed": false,
     "input": [
      "\"\"\"\n",
      "Abre el archivo 'sparse_sample_monthrg.dat.txt' como lectura \n",
      "para separar cada columna y trabajar con los datos\n",
      "\"\"\"\n",
      "\n",
      "t=np.loadtxt(open('sparse_sample_monthrg.dat.txt','r'))"
     ],
     "language": "python",
     "metadata": {},
     "outputs": [],
     "prompt_number": 5
    },
    {
     "cell_type": "code",
     "collapsed": false,
     "input": [
      "\"\"\"\n",
      "Separa las columnas de a\u00f1o y mes\n",
      "\"\"\"\n",
      "\n",
      "year=t[:,0]\n",
      "month=t[:,1]\n",
      "\n",
      "\"\"\"\n",
      "Cuenta el numero de datos que tenga la lista de datos ingresados\n",
      "\"\"\"\n",
      "\n",
      "numDatosOri=shape(year)[0]-1\n",
      "plt.plot(year)"
     ],
     "language": "python",
     "metadata": {},
     "outputs": [
      {
       "output_type": "pyout",
       "prompt_number": 6,
       "text": [
        "[<matplotlib.lines.Line2D at 0xb0f470c>]"
       ]
      },
      {
       "output_type": "display_data",
       "png": "[encoded data removed]"
      }
     ],
     "prompt_number": 6
    },
    {
     "cell_type": "code",
     "collapsed": false,
     "input": [
      "\"\"\"\n",
      "Halla el numero de datos que contendra el nuevo arreglo\n",
      "\"\"\"\n",
      "PosInic=month[0]+year[0]*12\n",
      "PosFin=month[numDatosOri]+year[numDatosOri]*12\n",
      "RangoTot=(int)(PosFin-PosInic)\n",
      "RangoTot"
     ],
     "language": "python",
     "metadata": {},
     "outputs": [
      {
       "output_type": "pyout",
       "prompt_number": 7,
       "text": [
        "4622"
       ]
      }
     ],
     "prompt_number": 7
    },
    {
     "cell_type": "code",
     "collapsed": false,
     "input": [
      "\"\"\"\n",
      "Existen varios casos para completar los espacios de fechas:\n",
      "1: Tomar el mismo valor hasta una nueva fecha (Interpolacion Constante)\n",
      "2: Tomar la pendiente entre valores y conseguir los valores intermedios (interpolacion lineal)\n",
      "3: Tomar interpolacion cuadratica\n",
      "Se crean 3 arreglos con cada metodo de interpolacion\n",
      "A1,A2,A3\n",
      "\"\"\""
     ],
     "language": "python",
     "metadata": {},
     "outputs": [
      {
       "output_type": "pyout",
       "prompt_number": 8,
       "text": [
        "'\\nExisten varios casos para completar los espacios de fechas:\\n1: Tomar el mismo valor hasta una nueva fecha (Interpolacion Constante)\\n2: Tomar la pendiente entre valores y conseguir los valores intermedios (interpolacion lineal)\\n3: Tomar interpolacion cuadratica\\nSe crean 3 arreglos con cada metodo de interpolacion\\nA1,A2,A3\\n'"
       ]
      }
     ],
     "prompt_number": 8
    },
    {
     "cell_type": "code",
     "collapsed": false,
     "input": [
      "\"\"\"\n",
      "Con cada arreglo hallado en el paso anterior, se encuentra la transformada de fourier y se hallan los espectros de potencias.\n",
      "Luego, se grafican las transformadas de fourier de los tres arreglos y se comparan estas graficas.\n",
      ">Hacer comentarios<\n",
      "\"\"\""
     ],
     "language": "python",
     "metadata": {},
     "outputs": [
      {
       "output_type": "pyout",
       "prompt_number": 9,
       "text": [
        "'\\nCon cada arreglo hallado en el paso anterior, se encuentra la transformada de fourier y se hallan los espectros de potencias.\\nLuego, se grafican las transformadas de fourier de los tres arreglos y se comparan estas graficas.\\n>Hacer comentarios<\\n'"
       ]
      }
     ],
     "prompt_number": 9
    },
    {
     "cell_type": "code",
     "collapsed": false,
     "input": [
      "\"\"\"\n",
      "con cada k que no se encuentre en el rango de PERIODOS:\n",
      "20 a\u00f1os y 2 a\u00f1os, se llevan los valores de Xk que corresponden a esos k\n",
      "a 0\n",
      "\"\"\""
     ],
     "language": "python",
     "metadata": {},
     "outputs": [
      {
       "output_type": "pyout",
       "prompt_number": 10,
       "text": [
        "'\\ncon cada k que no se encuentre en el rango de PERIODOS:\\n20 a\\xc3\\xb1os y 2 a\\xc3\\xb1os, se llevan los valores de Xk que corresponden a esos k\\na 0\\n'"
       ]
      }
     ],
     "prompt_number": 10
    },
    {
     "cell_type": "code",
     "collapsed": false,
     "input": [
      "\"\"\"\n",
      "Luego, se halla la transformada inversa de los tres arreglos alterados, se normalizan y luego graficar.\n",
      "\"\"\""
     ],
     "language": "python",
     "metadata": {},
     "outputs": [
      {
       "output_type": "pyout",
       "prompt_number": 11,
       "text": [
        "'\\nLuego, se halla la transformada inversa de los tres arreglos alterados, se normalizan y luego graficar.\\n'"
       ]
      }
     ],
     "prompt_number": 11
    },
    {
     "cell_type": "code",
     "collapsed": false,
     "input": [
      "\"\"\"\n",
      "Finalmente, Hacer una estimacion del periodo del ciclo solar\n",
      "\"\"\""
     ],
     "language": "python",
     "metadata": {},
     "outputs": []
    }
   ],
   "metadata": {}
  }
 ]
}