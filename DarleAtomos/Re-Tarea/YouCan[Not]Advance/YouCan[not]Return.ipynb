{
 "metadata": {
  "name": "YouCan[not]Return"
 },
 "nbformat": 3,
 "nbformat_minor": 0,
 "worksheets": [
  {
   "cells": [
    {
     "cell_type": "code",
     "collapsed": false,
     "input": [
      "%pylab inline"
     ],
     "language": "python",
     "metadata": {},
     "outputs": [
      {
       "output_type": "stream",
       "stream": "stdout",
       "text": [
        "\n",
        "Welcome to pylab, a matplotlib-based Python environment [backend: module://IPython.zmq.pylab.backend_inline].\n",
        "For more information, type 'help(pylab)'.\n"
       ]
      }
     ],
     "prompt_number": 1
    },
    {
     "cell_type": "code",
     "collapsed": false,
     "input": [
      "#we define the arrays holding the two variables\n",
      "h=0.05\n",
      "\n",
      "n_points = int((100.0+h)/h)\n",
      "x = empty(n_points)\n",
      "y_1 = empty(n_points)\n",
      "y_2 = empty(n_points)"
     ],
     "language": "python",
     "metadata": {},
     "outputs": [],
     "prompt_number": 153
    },
    {
     "cell_type": "code",
     "collapsed": false,
     "input": [
      "#we use our initial conditions\n",
      "x[0] = 0 # by definition\n",
      "y_1[0] = 1.0\n",
      "y_2[0] = 0.0\n",
      "\n",
      "Vo=4.0\n",
      "l=60.0\n",
      "B=2.0\n",
      "E=4.001\n",
      "\n",
      "def V(x):\n",
      "    if x<l and x >30.0:\n",
      "        return 0.0\n",
      "    else:\n",
      "        if x==l or x==30.0:\n",
      "            return Vo/2.0\n",
      "        return Vo\n"
     ],
     "language": "python",
     "metadata": {},
     "outputs": [],
     "prompt_number": 154
    },
    {
     "cell_type": "code",
     "collapsed": false,
     "input": [
      "# we use a 2nd order runge-kutta to update first y_2 and then y_1\n",
      "def func_prime_1(x,y_1):\n",
      "    return y_1\n",
      "\n",
      "def func_prime_2(x, y_1, y_2):\n",
      "    return B*(V(x)-E)*y_1\n",
      "\n",
      "for i in range(1,n_points):\n",
      "    #get the first derivatives\n",
      "    y_prime_1 = func_prime_1(x[i-1],y_2[i-1])\n",
      "    y_prime_2 = func_prime_2(x[i-1],y_1[i-1], y_2[i-1])\n",
      "    \n",
      "    #from this estimation move to the middle point\n",
      "    x_middle = x[i-1] + (h/2.0)\n",
      "    y_1_middle = y_1[i-1] + (h/2.0) * y_prime_1\n",
      "    y_2_middle = y_2[i-1] + (h/2.0) * y_prime_2 \n",
      "    \n",
      "    #compute the derivatives at the middle point\n",
      "    y_middle_prime_1 = func_prime_1(x_middle, y_2_middle)\n",
      "    y_middle_prime_2 = func_prime_2(x_middle, y_1_middle, y_2_middle)\n",
      "    \n",
      "    x[i] = x[i-1] + h\n",
      "    y_1[i] = y_1[i-1] + h * y_middle_prime_1 \n",
      "    y_2[i] = y_2[i-1] + h * y_middle_prime_2"
     ],
     "language": "python",
     "metadata": {},
     "outputs": [],
     "prompt_number": 155
    },
    {
     "cell_type": "code",
     "collapsed": false,
     "input": [
      "plot(x,y_1)\n",
      "plt.xlabel('$x$',size=24)\n",
      "plt.ylabel('$y(x)$',size=24)\n",
      "plt.xlim(0,100)\n",
      "plt.ylim(-7,7)\n",
      "plt.title(\"E=\"+str(E)+\" B=\"+str(B)+\" V=\"+str(Vo))"
     ],
     "language": "python",
     "metadata": {},
     "outputs": [
      {
       "output_type": "pyout",
       "prompt_number": 158,
       "text": [
        "<matplotlib.text.Text at 0xff62f2c>"
       ]
      },
      {
       "output_type": "display_data",
       "png": "[encoded data removed]"
      }
     ],
     "prompt_number": 158
    },
    {
     "cell_type": "code",
     "collapsed": false,
     "input": [],
     "language": "python",
     "metadata": {},
     "outputs": [],
     "prompt_number": 152
    },
    {
     "cell_type": "code",
     "collapsed": false,
     "input": [],
     "language": "python",
     "metadata": {},
     "outputs": []
    }
   ],
   "metadata": {}
  }
 ]
}