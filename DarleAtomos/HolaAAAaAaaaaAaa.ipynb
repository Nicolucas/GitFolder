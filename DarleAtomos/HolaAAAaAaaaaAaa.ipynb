{
 "metadata": {
  "name": "HolaAAAaAaaaaAaa"
 },
 "nbformat": 3,
 "nbformat_minor": 0,
 "worksheets": [
  {
   "cells": [
    {
     "cell_type": "code",
     "collapsed": false,
     "input": [
      "%pylab inline"
     ],
     "language": "python",
     "metadata": {},
     "outputs": [
      {
       "output_type": "stream",
       "stream": "stdout",
       "text": [
        "\n",
        "Welcome to pylab, a matplotlib-based Python environment [backend: module://IPython.zmq.pylab.backend_inline].\n",
        "For more information, type 'help(pylab)'.\n"
       ]
      }
     ],
     "prompt_number": 55
    },
    {
     "cell_type": "code",
     "collapsed": false,
     "input": [
      "h=5\n",
      "largo=50\n",
      "n=2\n",
      "u=2\n",
      "L=3\n",
      "n_points=((largo+h)/h)\n",
      "epsi=(1.0/(n*n))\n",
      "\n",
      "x = empty(n_points)\n",
      "y_1 = empty(n_points)\n",
      "y_2 = empty(n_points)\n",
      "\n",
      "\n",
      "x[0] = 0 # by definition\n",
      "y_1[0] = 1.0\n",
      "y_2[0] = 0.0"
     ],
     "language": "python",
     "metadata": {},
     "outputs": [],
     "prompt_number": 65
    },
    {
     "cell_type": "code",
     "collapsed": false,
     "input": [
      "\n",
      "\n",
      "# we use a 2nd order runge-kutta to update first y_2 and then y_1\n",
      "def func_prime_1(x,y_1,u,epsi, L,R ):\n",
      "    return y_1\n",
      "\n",
      "def func_prime_2(x, y_1, y_2,u,epsi, L,R ):\n",
      "    lala= - (2/u)*Rprime - (2*e + (2/u) - L*(L+1)/u*2)*R\n",
      "\n",
      "    return lala\n",
      "\n",
      "for i in range(1,n_points):\n",
      "    #get the first derivatives\n",
      "    y_prime_1 = func_prime_1(x[i-1],y_2[i-1],u,epsi, L,R)\n",
      "    y_prime_2 = func_prime_2(x[i-1],y_1[i-1], y_2[i-1],u,epsi, L,R)\n",
      "    \n",
      "    #from this estimation move to the middle point\n",
      "    x_middle = u[i-1] + (h/2.0)\n",
      "    y_1_middle = y_1[i-1] + (h/2.0) * y_prime_1\n",
      "    y_2_middle = y_2[i-1] + (h/2.0) * y_prime_2 \n",
      "    \n",
      "    #compute the derivatives at the middle point\n",
      "    y_middle_prime_1 = func_prime_1(x_middle, y_2_middle,u,epsi, L,R)\n",
      "    y_middle_prime_2 = func_prime_2(x_middle, y_1_middle, y_2_middle,u,epsi, L,R)\n",
      "    \n",
      "    x[i] = u[i-1] + h\n",
      "    y_1[i] = y_1[i-1] + h * y_middle_prime_1 \n",
      "    y_2[i] = y_2[i-1] + h * y_middle_prime_2\n"
     ],
     "language": "python",
     "metadata": {},
     "outputs": [
      {
       "ename": "NameError",
       "evalue": "name 'R' is not defined",
       "output_type": "pyerr",
       "traceback": [
        "\u001b[0;31m---------------------------------------------------------------------------\u001b[0m\n\u001b[0;31mNameError\u001b[0m                                 Traceback (most recent call last)",
        "\u001b[0;32m<ipython-input-66-9b058ebfd65f>\u001b[0m in \u001b[0;36m<module>\u001b[0;34m()\u001b[0m\n\u001b[1;32m     12\u001b[0m \u001b[0;32mfor\u001b[0m \u001b[0mi\u001b[0m \u001b[0;32min\u001b[0m \u001b[0mrange\u001b[0m\u001b[0;34m(\u001b[0m\u001b[0;36m1\u001b[0m\u001b[0;34m,\u001b[0m\u001b[0mn_points\u001b[0m\u001b[0;34m)\u001b[0m\u001b[0;34m:\u001b[0m\u001b[0;34m\u001b[0m\u001b[0m\n\u001b[1;32m     13\u001b[0m     \u001b[0;31m#get the first derivatives\u001b[0m\u001b[0;34m\u001b[0m\u001b[0;34m\u001b[0m\u001b[0m\n\u001b[0;32m---> 14\u001b[0;31m     \u001b[0my_prime_1\u001b[0m \u001b[0;34m=\u001b[0m \u001b[0mfunc_prime_1\u001b[0m\u001b[0;34m(\u001b[0m\u001b[0mx\u001b[0m\u001b[0;34m[\u001b[0m\u001b[0mi\u001b[0m\u001b[0;34m-\u001b[0m\u001b[0;36m1\u001b[0m\u001b[0;34m]\u001b[0m\u001b[0;34m,\u001b[0m\u001b[0my_2\u001b[0m\u001b[0;34m[\u001b[0m\u001b[0mi\u001b[0m\u001b[0;34m-\u001b[0m\u001b[0;36m1\u001b[0m\u001b[0;34m]\u001b[0m\u001b[0;34m,\u001b[0m\u001b[0mu\u001b[0m\u001b[0;34m,\u001b[0m\u001b[0mepsi\u001b[0m\u001b[0;34m,\u001b[0m \u001b[0mL\u001b[0m\u001b[0;34m,\u001b[0m\u001b[0mR\u001b[0m\u001b[0;34m)\u001b[0m\u001b[0;34m\u001b[0m\u001b[0m\n\u001b[0m\u001b[1;32m     15\u001b[0m     \u001b[0my_prime_2\u001b[0m \u001b[0;34m=\u001b[0m \u001b[0mfunc_prime_2\u001b[0m\u001b[0;34m(\u001b[0m\u001b[0mx\u001b[0m\u001b[0;34m[\u001b[0m\u001b[0mi\u001b[0m\u001b[0;34m-\u001b[0m\u001b[0;36m1\u001b[0m\u001b[0;34m]\u001b[0m\u001b[0;34m,\u001b[0m\u001b[0my_1\u001b[0m\u001b[0;34m[\u001b[0m\u001b[0mi\u001b[0m\u001b[0;34m-\u001b[0m\u001b[0;36m1\u001b[0m\u001b[0;34m]\u001b[0m\u001b[0;34m,\u001b[0m \u001b[0my_2\u001b[0m\u001b[0;34m[\u001b[0m\u001b[0mi\u001b[0m\u001b[0;34m-\u001b[0m\u001b[0;36m1\u001b[0m\u001b[0;34m]\u001b[0m\u001b[0;34m,\u001b[0m\u001b[0mu\u001b[0m\u001b[0;34m,\u001b[0m\u001b[0mepsi\u001b[0m\u001b[0;34m,\u001b[0m \u001b[0mL\u001b[0m\u001b[0;34m,\u001b[0m\u001b[0mR\u001b[0m\u001b[0;34m)\u001b[0m\u001b[0;34m\u001b[0m\u001b[0m\n\u001b[1;32m     16\u001b[0m \u001b[0;34m\u001b[0m\u001b[0m\n",
        "\u001b[0;31mNameError\u001b[0m: name 'R' is not defined"
       ]
      }
     ],
     "prompt_number": 66
    },
    {
     "cell_type": "code",
     "collapsed": false,
     "input": [],
     "language": "python",
     "metadata": {},
     "outputs": [],
     "prompt_number": 66
    },
    {
     "cell_type": "code",
     "collapsed": false,
     "input": [],
     "language": "python",
     "metadata": {},
     "outputs": [],
     "prompt_number": 7
    },
    {
     "cell_type": "code",
     "collapsed": false,
     "input": [],
     "language": "python",
     "metadata": {},
     "outputs": [],
     "prompt_number": 7
    },
    {
     "cell_type": "code",
     "collapsed": false,
     "input": [],
     "language": "python",
     "metadata": {},
     "outputs": []
    }
   ],
   "metadata": {}
  }
 ]
}