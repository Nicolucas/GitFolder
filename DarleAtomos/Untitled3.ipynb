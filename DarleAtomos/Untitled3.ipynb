{
 "metadata": {
  "name": "Untitled3"
 },
 "nbformat": 3,
 "nbformat_minor": 0,
 "worksheets": [
  {
   "cells": [
    {
     "cell_type": "code",
     "collapsed": false,
     "input": [
      "%pylab inline"
     ],
     "language": "python",
     "metadata": {},
     "outputs": [
      {
       "output_type": "stream",
       "stream": "stdout",
       "text": [
        "\n",
        "Welcome to pylab, a matplotlib-based Python environment [backend: module://IPython.zmq.pylab.backend_inline].\n",
        "For more information, type 'help(pylab)'.\n"
       ]
      }
     ],
     "prompt_number": 15
    },
    {
     "cell_type": "code",
     "collapsed": false,
     "input": [
      "h=0.0001\n",
      "n_points = int((20.0+h)/h)\n",
      "x = empty(n_points)\n",
      "y_1 = empty(n_points)\n",
      "y_2 = empty(n_points)"
     ],
     "language": "python",
     "metadata": {},
     "outputs": [],
     "prompt_number": 85
    },
    {
     "cell_type": "code",
     "collapsed": false,
     "input": [
      "#we use our initial conditions\n",
      "x[0] = 1.0 # by definition\n",
      "y_1[0] = 0.0\n",
      "y_2[0] = 1.0\n",
      "L=0.0\n",
      "n=1.0\n",
      "e=-1/(2*n*n)\n",
      "\n"
     ],
     "language": "python",
     "metadata": {},
     "outputs": [],
     "prompt_number": 127
    },
    {
     "cell_type": "code",
     "collapsed": false,
     "input": [
      "# we use a 2nd order runge-kutta to update first y_2 and then y_1\n",
      "def func_prime_1(x,y_1):\n",
      "    return y_1\n",
      "\n",
      "def func_prime_2(x, y_1, y_2):\n",
      "    return (-2.0*e - 2.0/x + L*(L+1.0)/(x*2.0) ) *y_1\n",
      "\n",
      "\n",
      "\n",
      "\n",
      "\n",
      "\n",
      "for i in range(1,n_points):\n",
      "    #get the first derivatives\n",
      "    y_prime_1 = func_prime_1(x[i-1],y_2[i-1])\n",
      "    y_prime_2 = func_prime_2(x[i-1],y_1[i-1], y_2[i-1])\n",
      "    \n",
      "    #from this estimation move to the middle point\n",
      "    x_middle = x[i-1] + (h/2.0)\n",
      "    y_1_middle = y_1[i-1] + (h/2.0) * y_prime_1\n",
      "    y_2_middle = y_2[i-1] + (h/2.0) * y_prime_2 \n",
      "    \n",
      "    #compute the derivatives at the middle point\n",
      "    y_middle_prime_1 = func_prime_1(x_middle, y_2_middle)\n",
      "    y_middle_prime_2 = func_prime_2(x_middle, y_1_middle, y_2_middle)\n",
      "    \n",
      "    x[i] = x[i-1] + h\n",
      "    y_1[i] = y_1[i-1] + h * y_middle_prime_1 \n",
      "    y_2[i] = y_2[i-1] + h * y_middle_prime_2"
     ],
     "language": "python",
     "metadata": {},
     "outputs": [],
     "prompt_number": 132
    },
    {
     "cell_type": "code",
     "collapsed": false,
     "input": [
      "plot(x,y_1, 'ko')\n",
      "plt.xlabel('x')\n",
      "plt.ylabel('$\\psi$')"
     ],
     "language": "python",
     "metadata": {},
     "outputs": [
      {
       "output_type": "pyout",
       "prompt_number": 133,
       "text": [
        "<matplotlib.text.Text at 0xebd010c>"
       ]
      },
      {
       "output_type": "display_data",
       "png": "[encoded data removed]"
      }
     ],
     "prompt_number": 133
    },
    {
     "cell_type": "code",
     "collapsed": false,
     "input": [],
     "language": "python",
     "metadata": {},
     "outputs": [],
     "prompt_number": 133
    },
    {
     "cell_type": "code",
     "collapsed": false,
     "input": [],
     "language": "python",
     "metadata": {},
     "outputs": []
    }
   ],
   "metadata": {}
  }
 ]
}