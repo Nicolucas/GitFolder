{
 "metadata": {
  "name": "Atomo Helio"
 },
 "nbformat": 3,
 "nbformat_minor": 0,
 "worksheets": [
  {
   "cells": [
    {
     "cell_type": "code",
     "collapsed": false,
     "input": [
      "%pylab inline"
     ],
     "language": "python",
     "metadata": {},
     "outputs": [
      {
       "output_type": "stream",
       "stream": "stdout",
       "text": [
        "\n",
        "Welcome to pylab, a matplotlib-based Python environment [backend: module://IPython.zmq.pylab.backend_inline].\n",
        "For more information, type 'help(pylab)'.\n"
       ]
      }
     ],
     "prompt_number": 1
    },
    {
     "cell_type": "code",
     "collapsed": false,
     "input": [
      "import scipy.constants as cons\n",
      "from scipy.constants import codata\n",
      "import matplotlib.pyplot as plt\n",
      "import numpy as np\n",
      "from numpy import pi\n",
      "\n",
      "k=8.9875517873681764*pow(10,9)\n",
      "q=cons.e\n",
      "a0=codata.value(\"Bohr radius\")\n",
      "k"
     ],
     "language": "python",
     "metadata": {},
     "outputs": [
      {
       "output_type": "pyout",
       "prompt_number": 7,
       "text": [
        "8987551787.368176"
       ]
      }
     ],
     "prompt_number": 7
    },
    {
     "cell_type": "code",
     "collapsed": false,
     "input": [
      "#valores iniciales\n",
      "z=2.0\n",
      "E0=(-13.6*z*z)\n",
      "\n",
      "h=0.0001\n",
      "maxim=30.0\n",
      "\n",
      "u =arange(0.0001,maxim,du)\n",
      "n_points=shape(u)[0]\n",
      "x=zeros(n_points)\n",
      "y_1 = zeros(n_points)\n",
      "y_2 = zeros(n_points)\n",
      "const=z*k*q*q/a0\n",
      "\n",
      "V=-(1.0/u)*(1.0+(e**(-u)))\n",
      "\n",
      "epsilon=25.42648618/E0\n",
      "epsilonV_E0=V\n"
     ],
     "language": "python",
     "metadata": {},
     "outputs": [],
     "prompt_number": 17
    },
    {
     "cell_type": "code",
     "collapsed": false,
     "input": [
      "# we use a 2nd order runge-kutta to update first y_2 and then y_1\n",
      "def func_prime_1(x, y_1, y_2,i):\n",
      "    return y_2\n",
      "\n",
      "def func_prime_2(x, y_1, y_2,i):\n",
      "    return -(2.0/x)*y_2+y_1*(-epsilon+epsilonV_E0[i])\n",
      "\n",
      "def RungeKuttaSecondOrderStep(x_old, y_1_old, y_2_old,i):\n",
      "    #get the first derivatives\n",
      "    y_prime_1 = func_prime_1(x_old,y_1_old, y_2_old,i)\n",
      "    y_prime_2 = func_prime_2(x_old,y_1_old, y_2_old,i)\n",
      "    \n",
      "    #from this estimation move to the middle point\n",
      "    x_middle = x_old+ (h/2.0)\n",
      "    y_1_middle = y_1_old + (h/2.0) * y_prime_1\n",
      "    y_2_middle = y_2_old + (h/2.0) * y_prime_2 \n",
      "    \n",
      "    #compute the derivatives at the middle point\n",
      "    y_middle_prime_1 = func_prime_1(x_middle, y_1_middle, y_2_middle,i)\n",
      "    y_middle_prime_2 = func_prime_2(x_middle, y_1_middle, y_2_middle,i)\n",
      "    \n",
      "    x_new = x_old + h\n",
      "    y_1_new = y_1_old + h * y_middle_prime_1 \n",
      "    y_2_new= y_2_old + h * y_middle_prime_2\n",
      "    return x_new, y_1_new, y_2_new\n",
      "    "
     ],
     "language": "python",
     "metadata": {},
     "outputs": [],
     "prompt_number": 18
    },
    {
     "cell_type": "code",
     "collapsed": false,
     "input": [
      "#we use our initial conditions\n",
      "x[0]=0.0001\n",
      "y_1[0] = 1.0\n",
      "y_2[0]=-1.0    \n",
      "\n",
      "for i in range(1,n_points):\n",
      "    x[i],y_1[i],y_2[i] = RungeKuttaSecondOrderStep(x[i-1], y_1[i-1], y_2[i-1],i-1)"
     ],
     "language": "python",
     "metadata": {},
     "outputs": [],
     "prompt_number": 19
    },
    {
     "cell_type": "code",
     "collapsed": false,
     "input": [
      "plot(u,y_1)\n",
      "plt.xlabel('u')\n",
      "plt.ylabel('y(u)')\n",
      "plt.ylim([0,1])\n",
      "print y_1[-1]"
     ],
     "language": "python",
     "metadata": {},
     "outputs": [
      {
       "output_type": "stream",
       "stream": "stdout",
       "text": [
        "-0.00010313465061\n"
       ]
      },
      {
       "output_type": "display_data",
       "png": "[encoded data removed]"
      }
     ],
     "prompt_number": 20
    },
    {
     "cell_type": "code",
     "collapsed": false,
     "input": [
      "plot(log(u),log(-V),'k')\n",
      "plot(log(u),log(u**-1),\"r--\")\n",
      "plot(log(u),log(2*u**-1),\"b--\")\n",
      "plt.xlabel('x')\n",
      "plt.ylabel('')\n"
     ],
     "language": "python",
     "metadata": {},
     "outputs": [
      {
       "output_type": "pyout",
       "prompt_number": 31,
       "text": [
        "<matplotlib.text.Text at 0xb0a0f2cc>"
       ]
      },
      {
       "output_type": "display_data",
       "png": "[encoded data removed]"
      }
     ],
     "prompt_number": 31
    },
    {
     "cell_type": "markdown",
     "metadata": {},
     "source": [
      "LALA"
     ]
    },
    {
     "cell_type": "code",
     "collapsed": false,
     "input": [
      "constante=np.trapz(4*pi*u**2*y_1**2,u)\n",
      "constante"
     ],
     "language": "python",
     "metadata": {},
     "outputs": [
      {
       "output_type": "pyout",
       "prompt_number": 22,
       "text": [
        "4.5193644233737276"
       ]
      }
     ],
     "prompt_number": 22
    },
    {
     "cell_type": "code",
     "collapsed": false,
     "input": [
      "funcOnda=y_1/sqrt(constante)"
     ],
     "language": "python",
     "metadata": {},
     "outputs": [],
     "prompt_number": 23
    },
    {
     "cell_type": "code",
     "collapsed": false,
     "input": [
      "P1=4*pi*u**2*funcOnda**2"
     ],
     "language": "python",
     "metadata": {},
     "outputs": [],
     "prompt_number": 24
    },
    {
     "cell_type": "code",
     "collapsed": false,
     "input": [
      "plot(u,P1)"
     ],
     "language": "python",
     "metadata": {},
     "outputs": [
      {
       "output_type": "pyout",
       "prompt_number": 25,
       "text": [
        "[<matplotlib.lines.Line2D at 0x9f48f8c>]"
       ]
      },
      {
       "output_type": "display_data",
       "png": "[encoded data removed]"
      }
     ],
     "prompt_number": 25
    },
    {
     "cell_type": "code",
     "collapsed": false,
     "input": [
      "Sumatoria=empty(0)\n",
      "Sumatoria=np.append(Sumatoria,0)\n",
      "for i in range(1,n_points):\n",
      "    Sumatoria=np.append(Sumatoria,Sumatoria[i-1]+P1[i]*h)\n",
      "Sumatoria"
     ],
     "language": "python",
     "metadata": {},
     "outputs": [
      {
       "output_type": "pyout",
       "prompt_number": 26,
       "text": [
        "array([  0.00000000e+00,   1.11200217e-11,   3.61333994e-11, ...,\n",
        "         9.99999996e-01,   9.99999999e-01,   1.00000000e+00])"
       ]
      }
     ],
     "prompt_number": 26
    },
    {
     "cell_type": "code",
     "collapsed": false,
     "input": [
      "plot(Sumatoria)"
     ],
     "language": "python",
     "metadata": {},
     "outputs": [
      {
       "output_type": "pyout",
       "prompt_number": 27,
       "text": [
        "[<matplotlib.lines.Line2D at 0xa19d46c>]"
       ]
      },
      {
       "output_type": "display_data",
       "png": "[encoded data removed]"
      }
     ],
     "prompt_number": 27
    },
    {
     "cell_type": "code",
     "collapsed": false,
     "input": [
      "V2=empty(0)\n",
      "V2=np.append(V2,0)\n",
      "for i in range(1,n_points):\n",
      "    V2=np.append(V2,(2-Sumatoria[i])*h/(u[i]**2))"
     ],
     "language": "python",
     "metadata": {},
     "outputs": [],
     "prompt_number": 29
    },
    {
     "cell_type": "code",
     "collapsed": false,
     "input": [
      "plot(log(u),log(V2**0.5-4),'k')\n",
      "plot(log(u),log(u**-1),\"r--\")\n",
      "plot(log(u),log(2*u**-1),\"b--\")\n",
      "plt.xlabel('x')\n",
      "plt.ylabel('')\n"
     ],
     "language": "python",
     "metadata": {},
     "outputs": [
      {
       "output_type": "pyout",
       "prompt_number": 54,
       "text": [
        "<matplotlib.text.Text at 0x5b8a718c>"
       ]
      },
      {
       "output_type": "display_data",
       "png": "[encoded data removed]"
      }
     ],
     "prompt_number": 54
    },
    {
     "cell_type": "code",
     "collapsed": false,
     "input": [],
     "language": "python",
     "metadata": {},
     "outputs": []
    }
   ],
   "metadata": {}
  }
 ]
}